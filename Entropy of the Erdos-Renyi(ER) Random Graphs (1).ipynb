{
 "cells": [
  {
   "cell_type": "markdown",
   "metadata": {},
   "source": [
    "# Entropy of the Erdos-Renyi(ER) Random Graphs, $\\mathcal{G}(n,p)$\n",
    "<p> The second function is a simple function used to output the binary entropy given a distribution $p$.\n",
    "<p> The third function generates the value of the entropy of an ER random graph, $\\mathcal{G}(n,p)$."
   ]
  },
  {
   "cell_type": "code",
   "execution_count": 1,
   "metadata": {},
   "outputs": [],
   "source": [
    "import math\n",
    "def binom(n,k):\n",
    "    return math.factorial(n)// math.factorial(k)// math.factorial(n-k)"
   ]
  },
  {
   "cell_type": "code",
   "execution_count": 2,
   "metadata": {},
   "outputs": [],
   "source": [
    "#We define a function for obtaining the binary entropy of a random variable distributed according to a probability p\n",
    "def binary_entropy(p):\n",
    "    x = (1-p)\n",
    "    if p<1E-10:\n",
    "        p = 1E-10; #To avoid NaN\n",
    "    if x<1E-10:\n",
    "        x = 1E-10; #To avoid NaN\n",
    "    return -p*math.log2(p)- x*math.log2(x) "
   ]
  },
  {
   "cell_type": "code",
   "execution_count": 3,
   "metadata": {},
   "outputs": [],
   "source": [
    "#Entropy of an Erdos Renyi Graph\n",
    "def ER_entropy(n,p):\n",
    "    return binom(n,2) * binary_entropy(p)"
   ]
  },
  {
   "cell_type": "code",
   "execution_count": null,
   "metadata": {},
   "outputs": [],
   "source": []
  }
 ],
 "metadata": {
  "kernelspec": {
   "display_name": "Python 3",
   "language": "python",
   "name": "python3"
  },
  "language_info": {
   "codemirror_mode": {
    "name": "ipython",
    "version": 3
   },
   "file_extension": ".py",
   "mimetype": "text/x-python",
   "name": "python",
   "nbconvert_exporter": "python",
   "pygments_lexer": "ipython3",
   "version": "3.7.6"
  }
 },
 "nbformat": 4,
 "nbformat_minor": 4
}
